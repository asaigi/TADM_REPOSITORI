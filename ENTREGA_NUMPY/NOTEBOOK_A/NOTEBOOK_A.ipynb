{
 "cells": [
  {
   "cell_type": "code",
   "execution_count": 1,
   "id": "1f492a2c",
   "metadata": {},
   "outputs": [],
   "source": [
    "import numpy as np\n",
    "from numpy import genfromtxt"
   ]
  },
  {
   "cell_type": "code",
   "execution_count": 2,
   "id": "e7f56a7d",
   "metadata": {},
   "outputs": [
    {
     "name": "stdout",
     "output_type": "stream",
     "text": [
      "[  6.   8.  70.   6.   6.  -1.  -8.   1.   3.   0.  -5.  46. -10.  15.\n",
      "  15.  -1. -11.  10.   6.   1. 119.   3. -10.  -2.  14.   9.  39.   1.\n",
      "  88.   4.  14.   1.  59. 104.   3.  50. -11.  64.   4.   3.  -8.   6.\n",
      " -10.  -2.  62.  -4.  -8.   1.  -8.  79. -23.   3.  96.   6.  -4.  -3.\n",
      "  74. -18.  -2. -42.   5.  -3. -11. -37.  13.  -4.  25.]\n"
     ]
    }
   ],
   "source": [
    "valors = np.genfromtxt(\"municipios.csv\",delimiter=\";\", usecols=(-1), skip_header=1)\n",
    "\n",
    "valors=np.array(valors)\n",
    "\n",
    "mask = np.arange(4,len(valors),5)\n",
    "\n",
    "vegetativo=valors[mask]\n",
    "\n",
    "print(vegetativo)"
   ]
  },
  {
   "cell_type": "code",
   "execution_count": 3,
   "id": "38d58997",
   "metadata": {
    "scrolled": true
   },
   "outputs": [],
   "source": [
    "vegetativo=np.array(vegetativo)"
   ]
  },
  {
   "cell_type": "code",
   "execution_count": 4,
   "id": "9e39dbfe",
   "metadata": {},
   "outputs": [
    {
     "name": "stdout",
     "output_type": "stream",
     "text": [
      "[  6.   8.  70.   6.   6.  -1.  -8.   1.   3.   0.  -5.  46. -10.  15.\n",
      "  15.  -1. -11.  10.   6.   1. 119.   3. -10.  -2.  14.   9.  39.   1.\n",
      "  88.   4.  14.   1.  59. 104.   3.  50. -11.  64.   4.   3.  -8.   6.\n",
      " -10.  -2.  62.  -4.  -8.   1.  -8.  79. -23.   3.  96.   6.  -4.  -3.\n",
      "  74. -18.  -2. -42.   5.  -3. -11. -37.  13.  -4.  25.]\n"
     ]
    }
   ],
   "source": [
    "print(vegetativo)"
   ]
  },
  {
   "cell_type": "code",
   "execution_count": 10,
   "id": "45837ec7",
   "metadata": {},
   "outputs": [],
   "source": [
    "vegetativo=np.sort(vegetativo)"
   ]
  },
  {
   "cell_type": "code",
   "execution_count": 12,
   "id": "6cf1b7b7",
   "metadata": {},
   "outputs": [
    {
     "name": "stdout",
     "output_type": "stream",
     "text": [
      "True\n"
     ]
    }
   ],
   "source": [
    "minimo=np.min(vegetativo)\n",
    "print(vegetativo[0]==minimo)"
   ]
  },
  {
   "cell_type": "code",
   "execution_count": 34,
   "id": "fb4515ab",
   "metadata": {},
   "outputs": [
    {
     "name": "stdout",
     "output_type": "stream",
     "text": [
      "True\n"
     ]
    }
   ],
   "source": [
    "maximo=np.max(vegetativo)\n",
    "print(vegetativo[-1]==maximo)"
   ]
  },
  {
   "cell_type": "code",
   "execution_count": 23,
   "id": "afab9463",
   "metadata": {
    "scrolled": true
   },
   "outputs": [
    {
     "data": {
      "text/plain": [
       "13.373134328358208"
      ]
     },
     "execution_count": 23,
     "metadata": {},
     "output_type": "execute_result"
    }
   ],
   "source": [
    "media=np.mean(vegetativo)\n"
   ]
  },
  {
   "cell_type": "code",
   "execution_count": 29,
   "id": "e817a775",
   "metadata": {},
   "outputs": [
    {
     "data": {
      "text/plain": [
       "3.0"
      ]
     },
     "execution_count": 29,
     "metadata": {},
     "output_type": "execute_result"
    }
   ],
   "source": [
    "median=np.median(vegetativo)\n"
   ]
  },
  {
   "cell_type": "code",
   "execution_count": 49,
   "id": "58ce5a5b",
   "metadata": {},
   "outputs": [
    {
     "name": "stdout",
     "output_type": "stream",
     "text": [
      "Mean = 13.373134328358208\n",
      "Min = -42.0 y el Max= 119.0\n",
      "Median = 3.0\n"
     ]
    }
   ],
   "source": [
    "print(\"Media =\", media)\n",
    "print(\"Min =\", minimo, \"y el Max=\", maximo)\n",
    "print(\"Mediana =\", median)"
   ]
  },
  {
   "cell_type": "code",
   "execution_count": 46,
   "id": "0b038695",
   "metadata": {},
   "outputs": [
    {
     "data": {
      "text/plain": [
       "{'whiskers': [<matplotlib.lines.Line2D at 0x10f126b60>,\n",
       "  <matplotlib.lines.Line2D at 0x10f126e00>],\n",
       " 'caps': [<matplotlib.lines.Line2D at 0x10f1270a0>,\n",
       "  <matplotlib.lines.Line2D at 0x10f127340>],\n",
       " 'boxes': [<matplotlib.lines.Line2D at 0x10f1268c0>],\n",
       " 'medians': [<matplotlib.lines.Line2D at 0x10f1275e0>],\n",
       " 'fliers': [<matplotlib.lines.Line2D at 0x10f127880>],\n",
       " 'means': []}"
      ]
     },
     "execution_count": 46,
     "metadata": {},
     "output_type": "execute_result"
    },
    {
     "data": {
      "image/png": "[encoded data removed]",
      "text/plain": [
       "<Figure size 640x480 with 1 Axes>"
      ]
     },
     "metadata": {},
     "output_type": "display_data"
    }
   ],
   "source": [
    "import matplotlib.pyplot as plt\n",
    "plt.boxplot(vegetativo)"
   ]
  }
 ],
 "metadata": {
  "kernelspec": {
   "display_name": "Python 3 (ipykernel)",
   "language": "python",
   "name": "python3"
  },
  "language_info": {
   "codemirror_mode": {
    "name": "ipython",
    "version": 3
   },
   "file_extension": ".py",
   "mimetype": "text/x-python",
   "name": "python",
   "nbconvert_exporter": "python",
   "pygments_lexer": "ipython3",
   "version": "3.10.8"
  }
 },
 "nbformat": 4,
 "nbformat_minor": 5
}
