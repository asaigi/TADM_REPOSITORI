{
 "cells": [
  {
   "cell_type": "code",
   "execution_count": 148,
   "id": "2ed2c722",
   "metadata": {},
   "outputs": [],
   "source": [
    "import numpy as np\n",
    "from numpy import genfromtxt"
   ]
  },
  {
   "cell_type": "code",
   "execution_count": 149,
   "id": "bab70ab4",
   "metadata": {},
   "outputs": [
    {
     "data": {
      "text/plain": [
       "numpy.ndarray"
      ]
     },
     "execution_count": 149,
     "metadata": {},
     "output_type": "execute_result"
    }
   ],
   "source": [
    "obs_value=np.genfromtxt(\"eurostat.csv\",delimiter=\",\", usecols=(9), skip_header=1,dtype=np.float64)\n",
    "\n",
    "\n",
    "gasto_govern=obs_value[10:37]\n",
    "\n",
    "type(gasto_govern)\n",
    "\n"
   ]
  },
  {
   "cell_type": "code",
   "execution_count": 150,
   "id": "2f14f3f5",
   "metadata": {},
   "outputs": [
    {
     "name": "stdout",
     "output_type": "stream",
     "text": [
      "[array([8.8, 8.6, 8.4, 8. , 7.9, 7.2, 7.1, 6.9, 7.4]), array([3.4, 3.7, 3.9, 3.8, 3.5, 3.2, 3.7, 2.8, 3.5]), array([10.1,  8.9,  9.1,  9.1,  7.9,  7.3,  7. ,  7.2,  7.6])]\n"
     ]
    }
   ],
   "source": [
    "gasto_govern=np.array_split(gasto_govern,3,axis=0)\n",
    "print(gasto_govern)"
   ]
  },
  {
   "cell_type": "code",
   "execution_count": 151,
   "id": "981394ce",
   "metadata": {},
   "outputs": [],
   "source": [
    "#volem comparar si els resultats dels tres valors de larray coincideixen: Belgium, Bulgaria i Croatia\n",
    "Belgium=obs_value[10:19]\n",
    "Bulgaria=obs_value[19:28]\n",
    "Croatia=obs_value[28:37]"
   ]
  },
  {
   "cell_type": "code",
   "execution_count": 142,
   "id": "83c84389",
   "metadata": {},
   "outputs": [
    {
     "name": "stdout",
     "output_type": "stream",
     "text": [
      "[ True  True  True  True  True  True  True  True  True]\n",
      "[ True  True  True  True  True  True  True  True  True]\n",
      "[ True  True  True  True  True  True  True  True  True]\n"
     ]
    }
   ],
   "source": [
    "print(gasto_govern[0]==Belgium)\n",
    "print(gasto_govern[1]==Bulgaria)\n",
    "print(gasto_govern[2]==Croatia)"
   ]
  },
  {
   "cell_type": "code",
   "execution_count": 152,
   "id": "b802f8ba",
   "metadata": {},
   "outputs": [
    {
     "name": "stdout",
     "output_type": "stream",
     "text": [
      "[array([8.8, 8.6, 8.4, 8. , 7.9, 7.2, 7.1, 6.9, 7.4]), array([3.4, 3.7, 3.9, 3.8, 3.5, 3.2, 3.7, 2.8, 3.5]), array([10.1,  8.9,  9.1,  9.1,  7.9,  7.3,  7. ,  7.2,  7.6])]\n"
     ]
    },
    {
     "data": {
      "text/plain": [
       "array([False, False, False])"
      ]
     },
     "execution_count": 152,
     "metadata": {},
     "output_type": "execute_result"
    }
   ],
   "source": [
    "print(gasto_govern)#comprovam que no hi ha cap valor NA\n",
    "np.isnan(gasto_govern).any(axis=1)"
   ]
  },
  {
   "cell_type": "code",
   "execution_count": 153,
   "id": "56e4e391",
   "metadata": {},
   "outputs": [],
   "source": [
    "mean_Be=np.mean(gasto_govern[0])\n",
    "mean_Bul=np.mean(gasto_govern[1])\n",
    "mean_C=np.mean(gasto_govern[2])\n"
   ]
  },
  {
   "cell_type": "code",
   "execution_count": 156,
   "id": "eded6f11",
   "metadata": {},
   "outputs": [
    {
     "name": "stdout",
     "output_type": "stream",
     "text": [
      "La Media de Croatia = 8.24 , La Media de Belgium= 7.81 y finalmente, La Media de Bulgaria 3.5\n"
     ]
    }
   ],
   "source": [
    "print(\"La Media de Croatia =\",np.round(mean_C,2),\", La Media de Belgium=\", np.round(mean_Be,2), \"y finalmente, La Media de Bulgaria\",np.round(mean_Bul,2))"
   ]
  },
  {
   "cell_type": "code",
   "execution_count": 158,
   "id": "2177cb88",
   "metadata": {},
   "outputs": [
    {
     "name": "stdout",
     "output_type": "stream",
     "text": [
      "El valor minimo de Croatia es 7.0 mientras que el máximo es 10.1\n",
      "El valor minimo de Belgica es 6.9 mientras que el máximo es 8.8\n",
      "El valor minimo de Bulgaria es 2.8 mientras que el máximo es 3.9\n"
     ]
    }
   ],
   "source": [
    "min_Be=np.min(gasto_govern[0])\n",
    "min_Bul=np.min(gasto_govern[1])\n",
    "min_C=np.min(gasto_govern[2])\n",
    "max_Be=np.max(gasto_govern[0])\n",
    "max_Bul=np.max(gasto_govern[1])\n",
    "max_C=np.max(gasto_govern[2])\n",
    "\n",
    "print(\"El valor minimo de Croatia es\",min_C, \"mientras que el máximo es\",max_C)\n",
    "print(\"El valor minimo de Belgica es\",min_Be,\"mientras que el máximo es\",max_Be)\n",
    "print(\"El valor minimo de Bulgaria es\",min_Bul, \"mientras que el máximo es\",max_Bul)\n"
   ]
  },
  {
   "cell_type": "code",
   "execution_count": null,
   "id": "8c330b45",
   "metadata": {},
   "outputs": [],
   "source": [
    "#AHORA NOS CENTRAMOS EN AUSTRIA\n",
    "#¿Cuál es su posición max y min?"
   ]
  },
  {
   "cell_type": "code",
   "execution_count": 168,
   "id": "de92efb7",
   "metadata": {},
   "outputs": [
    {
     "name": "stdout",
     "output_type": "stream",
     "text": [
      "La posición min de Belgica (que coincide con su valor min 6.9 es el año 2019 mientras que la posición max, que coicide con el valor max 8.8 es el año 2012\n"
     ]
    }
   ],
   "source": [
    "pminBe=np.argmin(gasto_govern[0])\n",
    "pmaxBe=np.argmax(gasto_govern[0])\n",
    "y=np.array([2012,2013,2014,2015,2016,2017,2018,2019,2020])\n",
    "print(\"La posición min de Belgica (que coincide con su valor min\",min_Be,\"es el año\",y[pminBe],\n",
    " \"mientras que la posición max, que coicide con el valor max\",max_Be, \"es el año\", y[pmaxBe])"
   ]
  },
  {
   "cell_type": "code",
   "execution_count": 167,
   "id": "06d95b55",
   "metadata": {},
   "outputs": [
    {
     "data": {
      "image/png": "[encoded data removed]",
      "text/plain": [
       "<Figure size 640x480 with 1 Axes>"
      ]
     },
     "metadata": {},
     "output_type": "display_data"
    }
   ],
   "source": [
    "\n",
    "import matplotlib.pyplot as plt\n",
    "\n",
    "plt.bar(y,gasto_govern[0],label= 'Belgica', color='y')  \n",
    "plt.title('Despeses del govern de Belgica des de 2012 a 2020') \n",
    "plt.ylabel('Despeses del Govern') \n",
    "plt.xlabel('Anys')  \n",
    "\n",
    "plt.show()\n"
   ]
  },
  {
   "cell_type": "code",
   "execution_count": 10,
   "id": "fe8399e5",
   "metadata": {},
   "outputs": [],
   "source": [
    "#Comparació de la mitjana, min i max dels tres primers paísos i Austria"
   ]
  },
  {
   "cell_type": "code",
   "execution_count": 169,
   "id": "f5bf2a56",
   "metadata": {},
   "outputs": [
    {
     "name": "stdout",
     "output_type": "stream",
     "text": [
      "La media de Bèlgica es 7.81 mientras que la media de los 3 paises es 6.52\n"
     ]
    }
   ],
   "source": [
    "mean_T=np.mean(gasto_govern)\n",
    "print(\"La media de Bèlgica es\",np.round(mean_Be,2), \"mientras que la media de los 3 paises es\",np.round(mean_T,2))"
   ]
  }
 ],
 "metadata": {
  "kernelspec": {
   "display_name": "Python 3 (ipykernel)",
   "language": "python",
   "name": "python3"
  },
  "language_info": {
   "codemirror_mode": {
    "name": "ipython",
    "version": 3
   },
   "file_extension": ".py",
   "mimetype": "text/x-python",
   "name": "python",
   "nbconvert_exporter": "python",
   "pygments_lexer": "ipython3",
   "version": "3.10.8"
  }
 },
 "nbformat": 4,
 "nbformat_minor": 5
}
